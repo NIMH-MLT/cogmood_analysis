{
 "cells": [
  {
   "cell_type": "code",
   "execution_count": null,
   "id": "a6b40583",
   "metadata": {},
   "outputs": [],
   "source": [
    "from pathlib import Path\n",
    "import polars as pl\n",
    "from cogmood_analysis.load import load_task, boxcoxmask, nanboxcox\n",
    "from scipy.stats import boxcox\n",
    "import seaborn as sns\n",
    "from matplotlib import pyplot as plt\n",
    "import numpy as np\n",
    "from numpy.typing import ArrayLike, NDArray\n",
    "from joblib import Parallel, delayed\n",
    "from datetime import datetime\n",
    "pl.Config(tbl_rows=300)"
   ]
  },
  {
   "cell_type": "code",
   "execution_count": null,
   "id": "ced7557b",
   "metadata": {},
   "outputs": [],
   "source": [
    "data_dir = Path('../data/')\n",
    "survey_dir = data_dir / 'survey'\n",
    "survey_dir = data_dir / 'survey'\n",
    "task_data_dir = data_dir / 'task/upload'\n",
    "task_db_dir = data_dir / 'task/db'\n",
    "start_time = pl.Series(['2025-07-14 00:00:00']).str.to_datetime()[0]\n",
    "tasks = ['flkr', 'cab', 'rdm', 'bart']\n",
    "bad_dirs = []\n",
    "\n",
    "\n",
    "#timing limits\n",
    "default_high_limit = 2\n",
    "default_low_limit = 0.350\n",
    "limits = {\n",
    "    'cab': (0.2, 2.5),\n",
    "    'flkr': (default_low_limit, default_high_limit),\n",
    "    'rdm': (0.2, 3),\n",
    "    'bart': (0, 3)\n",
    "}\n",
    "\n",
    "# chance threshold\n",
    "# have to press pump on first trial of at least 24 of 36 balloons \n",
    "# for p = 0.032 < 0.05 responses are not at random\n",
    "# (23 is 0.066)\n",
    "bart_thresh = 24\n",
    "# cab\n",
    "# correct response on 57 out of 96 trials\n",
    "# for p = 0.041 < 0.05 responses are not at random\n",
    "# (56 is 0.0625)\n",
    "cab_thresh = 57\n",
    "cab_rt_thresh05 = 4.8\n",
    "cab_rt_thresh10 = 9.6\n",
    "#rdm\n",
    "# correct response on 105 out of 186 nonrandom trials\n",
    "# for p = 0.045 < 0.05 responses are not at random\n",
    "# (104 is 0.062)\n",
    "rdm_thresh = 105\n",
    "rdm_rt_thresh05 = 222 * 0.05\n",
    "rdm_rt_thresh10 = 222 * 0.1\n",
    "# flkr\n",
    "# correct response on 57 out of 96 trials\n",
    "# for p = 0.041 < 0.05 responses are not at random\n",
    "# (56 is 0.0625)\n",
    "flkr_thresh = 57\n",
    "flkr_rt_thresh05 = 4.8\n",
    "flkr_rt_thresh10 = 9.6\n",
    "\n",
    "corr_threshes = {\n",
    "    'bart': 24,\n",
    "    'cab': 57,\n",
    "    'rdm': 105,\n",
    "    'flkr': 57\n",
    "}\n",
    "# invert thresholds to get mimimum number passing\n",
    "rt_threshes = {\n",
    "    'cab': 96 * 0.95,\n",
    "    'rdm': 222 * 0.95,\n",
    "    'flkr': 96 * 0.95\n",
    "}    \n"
   ]
  },
  {
   "cell_type": "markdown",
   "id": "3427fb52",
   "metadata": {},
   "source": [
    "# Load data"
   ]
  },
  {
   "cell_type": "code",
   "execution_count": null,
   "id": "9ebfcaf6",
   "metadata": {},
   "outputs": [],
   "source": [
    "all_subids = sorted([dd.parts[-1] for dd in (data_dir/'task/upload').glob('*') if dd.parts[-1] not in bad_dirs])\n",
    "\n",
    "task_jobs = {task_name:[] for task_name in tasks}\n",
    "breakout=False\n",
    "for subject in all_subids:\n",
    "    sub_task_dir = task_data_dir / subject\n",
    "    for task_name in tasks:\n",
    "        for runnum in [0,1,2]:\n",
    "            if runnum == 2 and task_name != 'rdm':\n",
    "                continue\n",
    "            zipped_path = sub_task_dir / f'{task_name}_{runnum}.zip'\n",
    "            if zipped_path.exists():\n",
    "                file_date = datetime.fromtimestamp(zipped_path.stat().st_mtime)\n",
    "                if file_date < start_time:\n",
    "                    continue\n",
    "                loddf = delayed(load_task)(zipped_path, task_name, subject, runnum)\n",
    "                task_jobs[task_name].append(loddf)\n",
    "            else:\n",
    "                continue\n",
    "\n",
    "task_dat = {task_name:[] for task_name in tasks}\n",
    "for task_name in tasks:\n",
    "    task_dat[task_name] = pl.concat(Parallel(n_jobs=8, verbose=10)(task_jobs[task_name]), how='diagonal_relaxed')"
   ]
  },
  {
   "cell_type": "markdown",
   "id": "f4ff1000",
   "metadata": {},
   "source": [
    "## process exclusion boxcox outlier exclusion criteria"
   ]
  },
  {
   "cell_type": "code",
   "execution_count": null,
   "id": "60865bf1",
   "metadata": {},
   "outputs": [],
   "source": [
    "\n",
    "for task_name in tasks:\n",
    "    low_limit, high_limit = limits[task_name]\n",
    "    tdf = task_dat[task_name]\n",
    "    if task_name == 'bart':\n",
    "        tdff = tdf.with_columns(\n",
    "            pl.when((pl.col('rt') > low_limit) & (pl.col('rt') < high_limit)).then(True).otherwise(False).alias('og_mask')\n",
    "        )\n",
    "    else:\n",
    "        tdff = tdf.with_columns(\n",
    "            pl.when((pl.col('rt') > low_limit) & (pl.col('rt') < high_limit)).then(True).otherwise(False).alias('og_mask'),\n",
    "            pl.when((pl.col('rt') > low_limit) & (pl.col('rt') < high_limit)).then(True).otherwise(False).alias('bc_mask')\n",
    "        ).with_columns(\n",
    "            bc_mask=pl.when(pl.col('bc_mask')).then(pl.col('rt')).map_batches(lambda x: boxcoxmask(x), return_dtype=pl.Boolean).over(pl.col('sub_id')),\n",
    "        ).with_columns(\n",
    "            bc_rt=pl.when(pl.col('bc_mask')).then(pl.col('rt')).map_batches(lambda x: nanboxcox(x), return_dtype=pl.Float64).fill_nan(None).over(pl.col('sub_id')),\n",
    "        ).with_columns(\n",
    "            bc_z_rt=pl.when(pl.col('bc_mask')).then((pl.col('rt') - pl.col('rt').mean()) / pl.col('rt').std()).over(pl.col('sub_id'))\n",
    "        )\n",
    "    task_dat[task_name] = tdff\n",
    "    "
   ]
  },
  {
   "cell_type": "code",
   "execution_count": null,
   "id": "2b70bdfb",
   "metadata": {},
   "outputs": [],
   "source": [
    "# double check that exclusion criteria are correct\n",
    "for task_name in tasks:\n",
    "    if task_name != 'bart':\n",
    "        tdff = task_dat[task_name]\n",
    "        # check that time limits are respected\n",
    "        assert (tdff.filter(~pl.col('og_mask') & pl.col('bc_mask'))).is_empty()\n",
    "        assert (tdff.filter(pl.col('bc_mask')).min().select('rt') > limits[task_name][0])[0, 'rt']\n",
    "        assert (tdff.filter(pl.col('bc_mask')).max().select('rt') < limits[task_name][1])[0, 'rt']"
   ]
  },
  {
   "cell_type": "code",
   "execution_count": null,
   "id": "f2d50eda",
   "metadata": {},
   "outputs": [],
   "source": [
    "tkeeps = []\n",
    "for task_name in tasks:\n",
    "    if task_name == 'cab':\n",
    "        task_dat[task_name] = task_dat[task_name].with_columns(\n",
    "            (pl.col('resp_acc') == True).alias('correct')\n",
    "        )\n",
    "    tdff = task_dat[task_name]\n",
    "    \n",
    "    if task_name == 'rdm':\n",
    "        tkeep = tdff.group_by(pl.col('sub_id')).sum().select(['sub_id', 'bc_mask', 'og_mask'])\n",
    "        tdff = tdff.with_columns(coh_dif=(pl.col('left_coherence') - pl.col('right_coherence')).abs())\n",
    "        tcorr = tdff.filter(pl.col('coh_dif') > 0).group_by(pl.col('sub_id')).sum().select(['sub_id','correct'])\n",
    "        tkeep = tkeep.join(tcorr, how='left', on='sub_id')\n",
    "    elif task_name == 'bart':\n",
    "        tkeep = tdff.group_by(['sub_id', 'zrn', 'balloon_id']).first().with_columns(\n",
    "            correct=pl.col('key_pressed') == pl.col('pump_button')\n",
    "        ).group_by(pl.col('sub_id')).sum().select(['sub_id', 'correct']).with_columns(\n",
    "            (pl.col('correct') >= corr_threshes[task_name]).alias(f'corr_ok_{task_name}')\n",
    "        ).with_columns(\n",
    "            pl.col(f'corr_ok_{task_name}').alias(f'good_{task_name}')\n",
    "        ).with_columns(\n",
    "            (~pl.col(f'good_{task_name}')).alias(f'bad_{task_name}')\n",
    "        ).rename({'correct': f'n_correct_{task_name}'})\n",
    "    else:\n",
    "        tkeep =  tdff.group_by(pl.col('sub_id')).sum().select(['sub_id', 'bc_mask', 'og_mask', 'correct'])\n",
    "        \n",
    "    if task_name != 'bart':\n",
    "        tkeep = tkeep.with_columns(\n",
    "            (pl.col('og_mask') >= rt_threshes[task_name]).alias(f'ogrt_ok_{task_name}'),\n",
    "            (pl.col('bc_mask') >= rt_threshes[task_name]).alias(f'rt_ok_{task_name}'),\n",
    "            (pl.col('correct') >= corr_threshes[task_name]).alias(f'corr_ok_{task_name}'),\n",
    "        ).with_columns(\n",
    "            (pl.col(f'rt_ok_{task_name}') & pl.col(f'corr_ok_{task_name}')).alias(f'good_{task_name}'),\n",
    "            (pl.col(f'ogrt_ok_{task_name}') & pl.col(f'corr_ok_{task_name}')).alias(f'oggood_{task_name}')\n",
    "        ).with_columns(\n",
    "            (~pl.col(f'good_{task_name}')).alias(f'bad_{task_name}')\n",
    "        ).rename({'og_mask':f'n_good_ogrts_{task_name}', 'bc_mask':f'n_good_rts_{task_name}', 'correct': f'n_correct_{task_name}'})\n",
    "    tkeeps.append(tkeep)\n",
    "\n",
    "tkeep = pl.concat(tkeeps, how=\"align\").with_columns(\n",
    "    good=(pl.col('good_flkr') & pl.col('good_bart') & pl.col('good_rdm') & pl.col('good_cab')),\n",
    "    oggood=(pl.col('oggood_flkr') & pl.col('good_bart') & pl.col('oggood_rdm') & pl.col('oggood_cab')),\n",
    ").with_columns(\n",
    "    bad=~pl.col('good')\n",
    ")"
   ]
  },
  {
   "cell_type": "code",
   "execution_count": null,
   "id": "ed83684c",
   "metadata": {},
   "outputs": [],
   "source": [
    "complete = []\n",
    "for task_name in tasks:\n",
    "    tdf = task_dat[task_name]\n",
    "    expected_n = 2\n",
    "    if task_name== 'rdm':\n",
    "        expected_n = 3\n",
    "    tmp = (tdf.group_by('sub_id').n_unique()\n",
    "           .select(['sub_id', 'zrn']).with_columns(\n",
    "               (pl.col('zrn')==expected_n).alias(f'has_all_{task_name}')\n",
    "               ).select(['sub_id', f'has_all_{task_name}']))\n",
    "    complete.append(tmp)\n",
    "complete = pl.concat(complete, how='align').with_columns(\n",
    "    has_all=(pl.col('has_all_flkr') & pl.col('has_all_cab') & pl.col('has_all_rdm') & pl.col('has_all_bart'))\n",
    ")"
   ]
  },
  {
   "cell_type": "code",
   "execution_count": null,
   "id": "fe8fe28f",
   "metadata": {},
   "outputs": [],
   "source": [
    "tkeep = tkeep.join(complete.select(['sub_id', 'has_all']), on='sub_id')"
   ]
  },
  {
   "cell_type": "markdown",
   "id": "3fee5329",
   "metadata": {},
   "source": [
    "# Count completions"
   ]
  },
  {
   "cell_type": "code",
   "execution_count": null,
   "id": "6dee4e15",
   "metadata": {},
   "outputs": [],
   "source": [
    "tkeep.filter(pl.col('has_all')).sum().select(['oggood', 'good']), tkeep.filter(pl.col('has_all')).mean().select(['oggood', 'good'])"
   ]
  },
  {
   "cell_type": "code",
   "execution_count": null,
   "id": "1adb0dfa",
   "metadata": {},
   "outputs": [],
   "source": [
    "tkeep.filter(pl.col('has_all')).select(['good', 'good_flkr', 'good_cab', 'good_bart', 'good_rdm']).mean(), tkeep.filter(pl.col('has_all')).select(['good', 'good_flkr', 'good_cab', 'good_bart', 'good_rdm', 'has_all']).sum()"
   ]
  },
  {
   "cell_type": "code",
   "execution_count": null,
   "id": "f71e0e2f",
   "metadata": {},
   "outputs": [],
   "source": []
  }
 ],
 "metadata": {
  "kernelspec": {
   "display_name": "cogmood-analysis",
   "language": "python",
   "name": "python3"
  },
  "language_info": {
   "codemirror_mode": {
    "name": "ipython",
    "version": 3
   },
   "file_extension": ".py",
   "mimetype": "text/x-python",
   "name": "python",
   "nbconvert_exporter": "python",
   "pygments_lexer": "ipython3",
   "version": "3.13.2"
  }
 },
 "nbformat": 4,
 "nbformat_minor": 5
}
