{
 "cells": [
  {
   "cell_type": "code",
   "execution_count": null,
   "id": "a6b40583",
   "metadata": {},
   "outputs": [],
   "source": [
    "from pathlib import Path\n",
    "import polars as pl\n",
    "from cogmood_analysis.load import load_task\n"
   ]
  },
  {
   "cell_type": "code",
   "execution_count": null,
   "id": "ced7557b",
   "metadata": {},
   "outputs": [],
   "source": [
    "data_dir = Path('../data/')\n",
    "survey_dir = data_dir / 'survey'\n",
    "survey_dir = data_dir / 'survey'\n",
    "task_data_dir = data_dir / 'task/upload'\n",
    "task_db_dir = data_dir / 'task/db'\n",
    "start_time = pl.Series(['2025-07-18 00:00:00']).str.to_datetime()[0]\n",
    "tasks = ['flkr', 'cab', 'rdm', 'bart']\n",
    "bad_dirs = []\n",
    "bart_thresh = 24\n",
    "# have to press pump on first trial of at least 24 of 36 balloons \n",
    "# for p = 0.032 < 0.05 responses are not at random\n",
    "# (23 is 0.066)\n",
    "bart_thresh = 24\n",
    "# cab\n",
    "# correct response on 57 out of 96 trials\n",
    "# for p = 0.041 < 0.05 responses are not at random\n",
    "# (56 is 0.0625)\n",
    "cab_thresh = 57\n",
    "cab_rt_thresh05 = 4.8\n",
    "cab_rt_thresh10 = 9.6\n",
    "#rdm\n",
    "# correct response on 105 out of 186 nonrandom trials\n",
    "# for p = 0.045 < 0.05 responses are not at random\n",
    "# (104 is 0.062)\n",
    "rdm_thresh = 105\n",
    "rdm_rt_thresh05 = 222 * 0.05\n",
    "rdm_rt_thresh10 = 222 * 0.1\n",
    "# flkr\n",
    "# correct response on 57 out of 96 trials\n",
    "# for p = 0.041 < 0.05 responses are not at random\n",
    "# (56 is 0.0625)\n",
    "flkr_thresh = 57\n",
    "flkr_rt_thresh05 = 4.8\n",
    "flkr_rt_thresh10 = 9.6\n",
    "\n"
   ]
  },
  {
   "cell_type": "code",
   "execution_count": null,
   "id": "3427fb52",
   "metadata": {},
   "outputs": [],
   "source": [
    "all_subids = sorted([dd.parts[-1] for dd in (data_dir/'task/upload').glob('*') if dd.parts[-1] not in bad_dirs])"
   ]
  },
  {
   "cell_type": "code",
   "execution_count": null,
   "id": "9ebfcaf6",
   "metadata": {},
   "outputs": [],
   "source": [
    "for subject in all_subids:\n",
    "    sub_task_dir = task_data_dir / subject\n",
    "    for task_name in tasks:\n",
    "        for runnum in [0,1,2]:\n",
    "            if runnum == 2 and task_name != 'rdm':\n",
    "                continue\n",
    "            zipped_path = sub_task_dir / f'{task_name}_{runnum}.zip'\n",
    "            loddf = load_task(zipped_path, task_name, subject, runnum)\n",
    "            break\n",
    "        break\n",
    "    break\n"
   ]
  }
 ],
 "metadata": {
  "kernelspec": {
   "display_name": "cogmood-analysis",
   "language": "python",
   "name": "python3"
  },
  "language_info": {
   "codemirror_mode": {
    "name": "ipython",
    "version": 3
   },
   "file_extension": ".py",
   "mimetype": "text/x-python",
   "name": "python",
   "nbconvert_exporter": "python",
   "pygments_lexer": "ipython3",
   "version": "3.13.2"
  }
 },
 "nbformat": 4,
 "nbformat_minor": 5
}
