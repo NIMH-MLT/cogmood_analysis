{
 "cells": [
  {
   "cell_type": "code",
   "execution_count": 1,
   "id": "a6b40583",
   "metadata": {},
   "outputs": [
    {
     "data": {
      "text/plain": [
       "<polars.config.Config at 0x129ad56a0>"
      ]
     },
     "execution_count": 1,
     "metadata": {},
     "output_type": "execute_result"
    }
   ],
   "source": [
    "from pathlib import Path\n",
    "import polars as pl\n",
    "from cogmood_analysis.load import load_task, boxcoxmask, nanboxcox, load_survey, proc_survey\n",
    "import cogmood_analysis.survey_helpers as sh\n",
    "from scipy.stats import boxcox\n",
    "import seaborn as sns\n",
    "from matplotlib import pyplot as plt\n",
    "import numpy as np\n",
    "from numpy.typing import ArrayLike, NDArray\n",
    "from joblib import Parallel, delayed\n",
    "from datetime import datetime\n",
    "import json\n",
    "pl.Config(tbl_rows=300)"
   ]
  },
  {
   "cell_type": "code",
   "execution_count": 2,
   "id": "e680da3a",
   "metadata": {},
   "outputs": [
    {
     "name": "stdout",
     "output_type": "stream",
     "text": [
      "\u001b[34m11nuj5ty67ojohm39cmzbt23\u001b[m\u001b[m \u001b[34mhvann18ezp9i2kq8bvqivehs\u001b[m\u001b[m \u001b[34mreqevxyh9eqa3jyc8wvucdi2\u001b[m\u001b[m\n",
      "\u001b[34m1ts935dhccck7dgtssvxv9nd\u001b[m\u001b[m \u001b[34ml8eyqget2wsecwew6bwabn1h\u001b[m\u001b[m \u001b[34ms7szmm610ygsyon54c67mlvj\u001b[m\u001b[m\n",
      "\u001b[34m2upuqdbw3wdpk3q43x89zysp\u001b[m\u001b[m \u001b[34mlpbs1m834j0r6sbezpcotnei\u001b[m\u001b[m \u001b[34msz1p1qr5v5saov60ia90oqlh\u001b[m\u001b[m\n",
      "\u001b[34m48juqsgxp4m2o7797zvjxln9\u001b[m\u001b[m \u001b[34mmglomvxjfi6gya3jmrt7o09w\u001b[m\u001b[m \u001b[34mu5sdtc6ljckmewbo4acifldp\u001b[m\u001b[m\n",
      "\u001b[34m60pixcark57tgonq4abwctvs\u001b[m\u001b[m \u001b[34mmjff7puqxr95bh6d945ru7z2\u001b[m\u001b[m \u001b[34mv0pbbk0rbplhgr4tsqqrlvzm\u001b[m\u001b[m\n",
      "\u001b[34m81987885tpc29718g2d8evdm\u001b[m\u001b[m \u001b[34mol8u2qd7k4zi7cd0p7idogr4\u001b[m\u001b[m \u001b[34mww2y0qu0joyyxy7lsxirxvm4\u001b[m\u001b[m\n",
      "bart.parquet             \u001b[34mp5t6r1pmhqfffx93vv5h8vxc\u001b[m\u001b[m \u001b[34mwxabwlnirq69pf95h6573i6y\u001b[m\u001b[m\n",
      "cab.parquet              \u001b[34mq86m1zrqk9q16o5e3dfvb8yx\u001b[m\u001b[m \u001b[34my6d1crfpg0rh1wpohfgi959w\u001b[m\u001b[m\n",
      "\u001b[34md4hsof73ftqmz1sbm3vc82f6\u001b[m\u001b[m \u001b[34mqjvaxvijfmumaq0czvg4m55x\u001b[m\u001b[m \u001b[34mycbg09io1hcmzyiosg50hgl8\u001b[m\u001b[m\n",
      "flkr.parquet             \u001b[34mqx2vl559ytpgxjwh26fre2fo\u001b[m\u001b[m \u001b[34mztgwa65cvika8vs9szlbpbnt\u001b[m\u001b[m\n",
      "\u001b[34mh3q7g3g6za07rl9qnhd87hoq\u001b[m\u001b[m rdm.parquet\n"
     ]
    }
   ],
   "source": [
    "!ls ~/code/cogmood/data/20250611_pilot/good_task"
   ]
  },
  {
   "cell_type": "code",
   "execution_count": 3,
   "id": "ced7557b",
   "metadata": {},
   "outputs": [],
   "source": [
    "data_dir = Path('/Users/nielsond/code/cogmood/data/20250611_pilot/good_task')\n",
    "out_dir = Path('/Users/nielsond/code/cogmood/data/20250611_pilot/to_model')\n",
    "out_dir.mkdir(exist_ok=True)\n",
    "task_data_dir = data_dir\n",
    "start_time = pl.Series(['2025-06-09 00:00:00']).str.to_datetime()[0]\n",
    "tasks = ['flkr', 'cab', 'rdm', 'bart']\n",
    "bad_dirs = ['.DS_Store']\n",
    "from_scratch = True\n",
    "\n",
    "#timing limits\n",
    "default_high_limit = 2\n",
    "default_low_limit = 0.350\n",
    "limits = {\n",
    "    'cab': (0.2, 2.5),\n",
    "    'flkr': (default_low_limit, default_high_limit),\n",
    "    'rdm': (0.2, 3),\n",
    "    'bart': (0, 3)\n",
    "}\n",
    "\n",
    "# chance threshold\n",
    "# have to press pump on first trial of at least 24 of 36 balloons \n",
    "# for p = 0.032 < 0.05 responses are not at random\n",
    "# (23 is 0.066)\n",
    "bart_thresh = 24\n",
    "# cab\n",
    "# correct response on 57 out of 96 trials\n",
    "# for p = 0.041 < 0.05 responses are not at random\n",
    "# (56 is 0.0625)\n",
    "cab_thresh = 57\n",
    "cab_rt_thresh05 = 4.8\n",
    "cab_rt_thresh10 = 9.6\n",
    "#rdm\n",
    "# correct response on 105 out of 186 nonrandom trials\n",
    "# for p = 0.045 < 0.05 responses are not at random\n",
    "# (104 is 0.062)\n",
    "rdm_thresh = 105\n",
    "rdm_rt_thresh05 = 222 * 0.05\n",
    "rdm_rt_thresh10 = 222 * 0.1\n",
    "# flkr\n",
    "# correct response on 57 out of 96 trials\n",
    "# for p = 0.041 < 0.05 responses are not at random\n",
    "# (56 is 0.0625)\n",
    "flkr_thresh = 57\n",
    "flkr_rt_thresh05 = 4.8\n",
    "flkr_rt_thresh10 = 9.6\n",
    "\n",
    "corr_threshes = {\n",
    "    'bart': 24,\n",
    "    'cab': 57,\n",
    "    'rdm': 105,\n",
    "    'flkr': 57\n",
    "}\n",
    "# invert thresholds to get mimimum number passing\n",
    "rt_threshes = {\n",
    "    'cab': 96 * 0.95,\n",
    "    'rdm': 222 * 0.95,\n",
    "    'flkr': 96 * 0.95\n",
    "}    \n"
   ]
  },
  {
   "cell_type": "markdown",
   "id": "3427fb52",
   "metadata": {},
   "source": [
    "# Load data"
   ]
  },
  {
   "cell_type": "code",
   "execution_count": 4,
   "id": "416372b0",
   "metadata": {},
   "outputs": [],
   "source": [
    "\n",
    "if not from_scratch:\n",
    "    task_dat = {}\n",
    "    for task_name in tasks:\n",
    "        task_dat[task_name] = pl.read_parquet(data_dir/f'{task_name}.parquet')\n",
    "\n",
    "    complete = []\n",
    "    for task_name in tasks:\n",
    "        tdf = task_dat[task_name]\n",
    "        expected_n = 2\n",
    "        if task_name== 'rdm':\n",
    "            expected_n = 3\n",
    "        tmp = (tdf.group_by('sub_id').n_unique()\n",
    "            .select(['sub_id', 'zrn']).with_columns(\n",
    "                (pl.col('zrn')==expected_n).alias(f'has_all_{task_name}')\n",
    "                ).select(['sub_id', f'has_all_{task_name}']))\n",
    "        complete.append(tmp)\n",
    "    complete = pl.concat(complete, how='align').with_columns(\n",
    "        has_all=(pl.col('has_all_flkr') & pl.col('has_all_cab') & pl.col('has_all_rdm') & pl.col('has_all_bart'))\n",
    "    )\n",
    "\n",
    "    complete_subs = complete.filter('has_all').get_column('sub_id').to_list()\n",
    "else:\n",
    "    complete_subs = []"
   ]
  },
  {
   "cell_type": "code",
   "execution_count": 5,
   "id": "4a7343a3",
   "metadata": {},
   "outputs": [],
   "source": [
    "all_subids = sorted([dd.parts[-1] for dd in (data_dir).glob('*') if (dd.parts[-1] not in bad_dirs)])\n",
    "needed_subids = [sid for sid in all_subids if sid not in complete_subs]\n",
    "# go ahead and just drop all the needed_subids\n",
    "if not from_scratch:\n",
    "    for task_name in tasks:\n",
    "        tdf = task_dat[task_name]\n",
    "        task_dat[task_name] = tdf.filter(~pl.col('sub_id').is_in(needed_subids))"
   ]
  },
  {
   "cell_type": "code",
   "execution_count": 6,
   "id": "9ebfcaf6",
   "metadata": {},
   "outputs": [
    {
     "name": "stdout",
     "output_type": "stream",
     "text": [
      "/Users/nielsond/code/cogmood/data/20250611_pilot/good_task/bart.parquet/flkr_0.zip\n",
      "/Users/nielsond/code/cogmood/data/20250611_pilot/good_task/bart.parquet/flkr_1.zip\n",
      "/Users/nielsond/code/cogmood/data/20250611_pilot/good_task/bart.parquet/cab_0.zip\n",
      "/Users/nielsond/code/cogmood/data/20250611_pilot/good_task/bart.parquet/cab_1.zip\n",
      "/Users/nielsond/code/cogmood/data/20250611_pilot/good_task/bart.parquet/rdm_0.zip\n",
      "/Users/nielsond/code/cogmood/data/20250611_pilot/good_task/bart.parquet/rdm_1.zip\n",
      "/Users/nielsond/code/cogmood/data/20250611_pilot/good_task/bart.parquet/rdm_2.zip\n",
      "/Users/nielsond/code/cogmood/data/20250611_pilot/good_task/bart.parquet/bart_0.zip\n",
      "/Users/nielsond/code/cogmood/data/20250611_pilot/good_task/bart.parquet/bart_1.zip\n",
      "/Users/nielsond/code/cogmood/data/20250611_pilot/good_task/cab.parquet/flkr_0.zip\n",
      "/Users/nielsond/code/cogmood/data/20250611_pilot/good_task/cab.parquet/flkr_1.zip\n",
      "/Users/nielsond/code/cogmood/data/20250611_pilot/good_task/cab.parquet/cab_0.zip\n",
      "/Users/nielsond/code/cogmood/data/20250611_pilot/good_task/cab.parquet/cab_1.zip\n",
      "/Users/nielsond/code/cogmood/data/20250611_pilot/good_task/cab.parquet/rdm_0.zip\n",
      "/Users/nielsond/code/cogmood/data/20250611_pilot/good_task/cab.parquet/rdm_1.zip\n",
      "/Users/nielsond/code/cogmood/data/20250611_pilot/good_task/cab.parquet/rdm_2.zip\n",
      "/Users/nielsond/code/cogmood/data/20250611_pilot/good_task/cab.parquet/bart_0.zip\n",
      "/Users/nielsond/code/cogmood/data/20250611_pilot/good_task/cab.parquet/bart_1.zip\n",
      "/Users/nielsond/code/cogmood/data/20250611_pilot/good_task/flkr.parquet/flkr_0.zip\n",
      "/Users/nielsond/code/cogmood/data/20250611_pilot/good_task/flkr.parquet/flkr_1.zip\n",
      "/Users/nielsond/code/cogmood/data/20250611_pilot/good_task/flkr.parquet/cab_0.zip\n",
      "/Users/nielsond/code/cogmood/data/20250611_pilot/good_task/flkr.parquet/cab_1.zip\n",
      "/Users/nielsond/code/cogmood/data/20250611_pilot/good_task/flkr.parquet/rdm_0.zip\n",
      "/Users/nielsond/code/cogmood/data/20250611_pilot/good_task/flkr.parquet/rdm_1.zip\n",
      "/Users/nielsond/code/cogmood/data/20250611_pilot/good_task/flkr.parquet/rdm_2.zip\n",
      "/Users/nielsond/code/cogmood/data/20250611_pilot/good_task/flkr.parquet/bart_0.zip\n",
      "/Users/nielsond/code/cogmood/data/20250611_pilot/good_task/flkr.parquet/bart_1.zip\n",
      "/Users/nielsond/code/cogmood/data/20250611_pilot/good_task/rdm.parquet/flkr_0.zip\n",
      "/Users/nielsond/code/cogmood/data/20250611_pilot/good_task/rdm.parquet/flkr_1.zip\n",
      "/Users/nielsond/code/cogmood/data/20250611_pilot/good_task/rdm.parquet/cab_0.zip\n",
      "/Users/nielsond/code/cogmood/data/20250611_pilot/good_task/rdm.parquet/cab_1.zip\n",
      "/Users/nielsond/code/cogmood/data/20250611_pilot/good_task/rdm.parquet/rdm_0.zip\n",
      "/Users/nielsond/code/cogmood/data/20250611_pilot/good_task/rdm.parquet/rdm_1.zip\n",
      "/Users/nielsond/code/cogmood/data/20250611_pilot/good_task/rdm.parquet/rdm_2.zip\n",
      "/Users/nielsond/code/cogmood/data/20250611_pilot/good_task/rdm.parquet/bart_0.zip\n",
      "/Users/nielsond/code/cogmood/data/20250611_pilot/good_task/rdm.parquet/bart_1.zip\n"
     ]
    },
    {
     "name": "stderr",
     "output_type": "stream",
     "text": [
      "[Parallel(n_jobs=8)]: Using backend LokyBackend with 8 concurrent workers.\n",
      "[Parallel(n_jobs=8)]: Done  2 out of 56 | elapsed:    3.5s\n",
      "[Parallel(n_jobs=8)]: Done  9 out of 56 | elapsed:    3.6s\n",
      "[Parallel(n_jobs=8)]: Done 16 out of 56 | elapsed:    3.6s\n",
      "[Parallel(n_jobs=8)]: Done 25 out of 56 | elapsed:    3.6s\n",
      "[Parallel(n_jobs=8)]: Batch computation too fast (0.17433088683246437s.) Setting batch_size=2.\n",
      "[Parallel(n_jobs=8)]: Done 34 out of 56 | elapsed:    3.7s\n",
      "[Parallel(n_jobs=8)]: Done 47 out of 56 | elapsed:    3.7s remaining:    0.7s\n",
      "[Parallel(n_jobs=8)]: Done 53 out of 56 | elapsed:    3.7s remaining:    0.2s\n",
      "[Parallel(n_jobs=8)]: Done 56 out of 56 | elapsed:    3.7s finished\n",
      "[Parallel(n_jobs=8)]: Using backend LokyBackend with 8 concurrent workers.\n",
      "[Parallel(n_jobs=8)]: Batch computation too fast (0.03125619888305664s.) Setting batch_size=2.\n",
      "[Parallel(n_jobs=8)]: Done  2 out of 56 | elapsed:    0.0s\n",
      "[Parallel(n_jobs=8)]: Done  9 out of 56 | elapsed:    0.0s\n",
      "[Parallel(n_jobs=8)]: Done 16 out of 56 | elapsed:    0.0s\n",
      "[Parallel(n_jobs=8)]: Batch computation too fast (0.05091094970703125s.) Setting batch_size=4.\n",
      "[Parallel(n_jobs=8)]: Done 34 out of 56 | elapsed:    0.1s\n",
      "[Parallel(n_jobs=8)]: Done 53 out of 56 | elapsed:    0.1s remaining:    0.0s\n",
      "[Parallel(n_jobs=8)]: Done 56 out of 56 | elapsed:    0.1s finished\n",
      "[Parallel(n_jobs=8)]: Using backend LokyBackend with 8 concurrent workers.\n",
      "[Parallel(n_jobs=8)]: Batch computation too fast (0.023540973663330078s.) Setting batch_size=2.\n",
      "[Parallel(n_jobs=8)]: Done  2 out of 84 | elapsed:    0.0s\n",
      "[Parallel(n_jobs=8)]: Done  9 out of 84 | elapsed:    0.0s\n",
      "[Parallel(n_jobs=8)]: Done 16 out of 84 | elapsed:    0.0s\n",
      "[Parallel(n_jobs=8)]: Batch computation too fast (0.04582023620605469s.) Setting batch_size=4.\n",
      "[Parallel(n_jobs=8)]: Done 34 out of 84 | elapsed:    0.1s\n",
      "[Parallel(n_jobs=8)]: Done 60 out of 84 | elapsed:    0.2s remaining:    0.1s\n",
      "[Parallel(n_jobs=8)]: Done 84 out of 84 | elapsed:    0.2s finished\n",
      "[Parallel(n_jobs=8)]: Using backend LokyBackend with 8 concurrent workers.\n",
      "[Parallel(n_jobs=8)]: Batch computation too fast (0.0360713005065918s.) Setting batch_size=2.\n",
      "[Parallel(n_jobs=8)]: Done  2 out of 56 | elapsed:    0.0s\n",
      "[Parallel(n_jobs=8)]: Done  9 out of 56 | elapsed:    0.1s\n",
      "[Parallel(n_jobs=8)]: Done 16 out of 56 | elapsed:    0.1s\n",
      "[Parallel(n_jobs=8)]: Batch computation too fast (0.06058788299560547s.) Setting batch_size=4.\n",
      "[Parallel(n_jobs=8)]: Done 34 out of 56 | elapsed:    0.1s\n",
      "[Parallel(n_jobs=8)]: Done 41 out of 56 | elapsed:    0.2s remaining:    0.1s\n",
      "[Parallel(n_jobs=8)]: Done 47 out of 56 | elapsed:    0.2s remaining:    0.0s\n",
      "[Parallel(n_jobs=8)]: Done 56 out of 56 | elapsed:    0.2s finished\n"
     ]
    }
   ],
   "source": [
    "\n",
    "task_jobs = {task_name:[] for task_name in tasks}\n",
    "breakout=False\n",
    "for subject in needed_subids:\n",
    "    sub_task_dir = task_data_dir / subject\n",
    "    for task_name in tasks:\n",
    "        for runnum in [0,1,2]:\n",
    "            if runnum == 2 and task_name != 'rdm':\n",
    "                continue\n",
    "            zipped_path = sub_task_dir / f'{task_name}_{runnum}.zip'\n",
    "            if zipped_path.exists():\n",
    "                file_date = datetime.fromtimestamp(zipped_path.stat().st_mtime)\n",
    "                if file_date < start_time:\n",
    "                    continue\n",
    "                loddf = delayed(load_task)(zipped_path, task_name, subject, runnum)\n",
    "                task_jobs[task_name].append(loddf)\n",
    "            else:\n",
    "                print(zipped_path)\n",
    "                continue\n",
    "\n",
    "addl_task_dat = {task_name:[] for task_name in tasks}\n",
    "for task_name in tasks:\n",
    "    addl_task_dat[task_name] = pl.concat(Parallel(n_jobs=8, verbose=10)(task_jobs[task_name]), how='diagonal_relaxed')"
   ]
  },
  {
   "cell_type": "markdown",
   "id": "f4ff1000",
   "metadata": {},
   "source": [
    "## process exclusion boxcox outlier exclusion criteria"
   ]
  },
  {
   "cell_type": "code",
   "execution_count": 7,
   "id": "60865bf1",
   "metadata": {},
   "outputs": [],
   "source": [
    "\n",
    "for task_name in tasks:\n",
    "    low_limit, high_limit = limits[task_name]\n",
    "    tdf = addl_task_dat[task_name]\n",
    "    if task_name == 'bart':\n",
    "        tdff = tdf.with_columns(\n",
    "            pl.when((pl.col('rt') > low_limit) & (pl.col('rt') < high_limit)).then(True).otherwise(False).alias('og_mask')\n",
    "        )\n",
    "    else:\n",
    "        tdff = tdf.with_columns(\n",
    "            pl.when((pl.col('rt') > low_limit) & (pl.col('rt') < high_limit)).then(True).otherwise(False).alias('og_mask'),\n",
    "            pl.when((pl.col('rt') > low_limit) & (pl.col('rt') < high_limit)).then(True).otherwise(False).alias('bc_mask')\n",
    "        ).with_columns(\n",
    "            bc_mask=pl.when(pl.col('bc_mask')).then(pl.col('rt')).map_batches(lambda x: boxcoxmask(x), return_dtype=pl.Boolean).over(pl.col('sub_id')),\n",
    "        ).with_columns(\n",
    "            bc_rt=pl.when(pl.col('bc_mask')).then(pl.col('rt')).map_batches(lambda x: nanboxcox(x), return_dtype=pl.Float64).fill_nan(None).over(pl.col('sub_id')),\n",
    "        ).with_columns(\n",
    "            bc_z_rt=pl.when(pl.col('bc_mask')).then((pl.col('rt') - pl.col('rt').mean()) / pl.col('rt').std()).over(pl.col('sub_id'))\n",
    "        )\n",
    "    addl_task_dat[task_name] = tdff\n",
    "    "
   ]
  },
  {
   "cell_type": "code",
   "execution_count": 8,
   "id": "e538de6f",
   "metadata": {},
   "outputs": [],
   "source": [
    "if not from_scratch:\n",
    "    for task_name in tasks: \n",
    "        tdf = task_dat[task_name]\n",
    "        atdf = addl_task_dat[task_name]\n",
    "        ctdf = pl.concat([tdf, atdf], how='diagonal_relaxed')\n",
    "        task_dat[task_name] = ctdf\n",
    "else:\n",
    "    task_dat = {task_name:[] for task_name in tasks}\n",
    "    for task_name in tasks:\n",
    "        task_dat[task_name] = addl_task_dat[task_name]\n",
    "\n",
    "complete = []\n",
    "for task_name in tasks:\n",
    "    tdf = task_dat[task_name]\n",
    "    expected_n = 2\n",
    "    if task_name== 'rdm':\n",
    "        expected_n = 3\n",
    "    tmp = (tdf.group_by('sub_id').n_unique()\n",
    "        .select(['sub_id', 'zrn']).with_columns(\n",
    "            (pl.col('zrn')==expected_n).alias(f'has_all_{task_name}')\n",
    "            ).select(['sub_id', f'has_all_{task_name}']))\n",
    "    complete.append(tmp)\n",
    "complete = pl.concat(complete, how='align').with_columns(\n",
    "    has_all=(pl.col('has_all_flkr') & pl.col('has_all_cab') & pl.col('has_all_rdm') & pl.col('has_all_bart'))\n",
    ")"
   ]
  },
  {
   "cell_type": "code",
   "execution_count": 9,
   "id": "2b70bdfb",
   "metadata": {},
   "outputs": [],
   "source": [
    "# double check that exclusion criteria are correct\n",
    "for task_name in tasks:\n",
    "    if task_name != 'bart':\n",
    "        tdff = task_dat[task_name]\n",
    "        # check that time limits are respected\n",
    "        assert (tdff.filter(~pl.col('og_mask') & pl.col('bc_mask'))).is_empty()\n",
    "        assert (tdff.filter(pl.col('bc_mask')).min().select('rt') > limits[task_name][0])[0, 'rt']\n",
    "        assert (tdff.filter(pl.col('bc_mask')).max().select('rt') < limits[task_name][1])[0, 'rt']"
   ]
  },
  {
   "cell_type": "code",
   "execution_count": 10,
   "id": "5498f5d7",
   "metadata": {},
   "outputs": [
    {
     "data": {
      "text/plain": [
       "PosixPath('/Users/nielsond/code/cogmood/data/20250611_pilot/good_task')"
      ]
     },
     "execution_count": 10,
     "metadata": {},
     "output_type": "execute_result"
    }
   ],
   "source": [
    "data_dir"
   ]
  },
  {
   "cell_type": "code",
   "execution_count": 11,
   "id": "bc063ef9",
   "metadata": {},
   "outputs": [],
   "source": [
    "for task_name in tasks:\n",
    "    tdff = task_dat[task_name]\n",
    "    tdff.write_parquet(data_dir/f'{task_name}.parquet')"
   ]
  },
  {
   "cell_type": "code",
   "execution_count": 53,
   "id": "775a4c72",
   "metadata": {},
   "outputs": [],
   "source": [
    "tdf = task_dat['flkr']"
   ]
  },
  {
   "cell_type": "code",
   "execution_count": 12,
   "id": "f2d50eda",
   "metadata": {},
   "outputs": [],
   "source": [
    "tkeeps = []\n",
    "for task_name in tasks:\n",
    "    if task_name == 'cab':\n",
    "        task_dat[task_name] = task_dat[task_name].with_columns(\n",
    "            (pl.col('resp_acc') == True).alias('correct')\n",
    "        )\n",
    "    tdff = task_dat[task_name]\n",
    "    \n",
    "    if task_name == 'rdm':\n",
    "        tkeep = tdff.group_by(pl.col('sub_id')).agg(\n",
    "            pl.sum('bc_mask').alias('bc_mask'),\n",
    "            pl.sum('og_mask').alias('og_mask'),\n",
    "            pl.last('date').alias('date')\n",
    "        )\n",
    "        tdff = tdff.with_columns(coh_dif=(pl.col('left_coherence') - pl.col('right_coherence')).abs())\n",
    "        tcorr = tdff.filter(pl.col('coh_dif') > 0).group_by(pl.col('sub_id')).sum().select(['sub_id','correct'])\n",
    "        tkeep = tkeep.join(tcorr, how='left', on='sub_id')\n",
    "    elif task_name == 'bart':\n",
    "        tkeep = tdff.group_by(['sub_id', 'zrn', 'balloon_id', 'date']).first().with_columns(\n",
    "            correct=pl.col('key_pressed') == pl.col('pump_button')\n",
    "        ).group_by(pl.col('sub_id')).agg(\n",
    "            pl.sum('correct').alias('correct'),\n",
    "            pl.last('date').alias('date')\n",
    "        ).with_columns(\n",
    "            (pl.col('correct') >= corr_threshes[task_name]).alias(f'corr_ok_{task_name}')\n",
    "        ).with_columns(\n",
    "            pl.col(f'corr_ok_{task_name}').alias(f'good_{task_name}')\n",
    "        ).with_columns(\n",
    "            (~pl.col(f'good_{task_name}')).alias(f'bad_{task_name}')\n",
    "        ).rename({'correct': f'n_correct_{task_name}', 'date':f'date_{task_name}'})\n",
    "    else:\n",
    "        tkeep =  tdff.group_by(pl.col('sub_id')).agg(\n",
    "            pl.sum('bc_mask').alias('bc_mask'),\n",
    "            pl.sum('og_mask').alias('og_mask'),\n",
    "            pl.sum('correct').alias('correct'),\n",
    "            pl.last('date').alias('date')\n",
    "        )\n",
    "        \n",
    "    if task_name != 'bart':\n",
    "        tkeep = tkeep.with_columns(\n",
    "            (pl.col('og_mask') >= rt_threshes[task_name]).alias(f'ogrt_ok_{task_name}'),\n",
    "            (pl.col('bc_mask') >= rt_threshes[task_name]).alias(f'rt_ok_{task_name}'),\n",
    "            (pl.col('correct') >= corr_threshes[task_name]).alias(f'corr_ok_{task_name}'),\n",
    "        ).with_columns(\n",
    "            (pl.col(f'rt_ok_{task_name}') & pl.col(f'corr_ok_{task_name}')).alias(f'good_{task_name}'),\n",
    "            (pl.col(f'ogrt_ok_{task_name}') & pl.col(f'corr_ok_{task_name}')).alias(f'oggood_{task_name}')\n",
    "        ).with_columns(\n",
    "            (~pl.col(f'good_{task_name}')).alias(f'bad_{task_name}')\n",
    "        ).rename({'og_mask':f'n_good_ogrts_{task_name}',\n",
    "                   'bc_mask':f'n_good_rts_{task_name}', 'correct': f'n_correct_{task_name}', 'date':f'date_{task_name}'})\n",
    "\n",
    "    tkeeps.append(tkeep)\n",
    "\n",
    "tkeep = pl.concat(tkeeps, how=\"align\").with_columns(\n",
    "    good=(pl.col('good_flkr') & pl.col('good_bart') & pl.col('good_rdm') & pl.col('good_cab')),\n",
    "    oggood=(pl.col('oggood_flkr') & pl.col('good_bart') & pl.col('oggood_rdm') & pl.col('oggood_cab')),\n",
    ").with_columns(\n",
    "    bad=~pl.col('good')\n",
    ")"
   ]
  },
  {
   "cell_type": "code",
   "execution_count": 13,
   "id": "fe8fe28f",
   "metadata": {},
   "outputs": [],
   "source": [
    "tkeep = tkeep.join(complete.select(['sub_id', 'has_all']), on='sub_id')"
   ]
  },
  {
   "cell_type": "code",
   "execution_count": 14,
   "id": "696a598f",
   "metadata": {},
   "outputs": [],
   "source": [
    "keep_sub_ids = tkeep.filter(pl.col('good_flkr')).select('sub_id').to_numpy().flatten()"
   ]
  },
  {
   "cell_type": "code",
   "execution_count": 16,
   "id": "ede8c65b",
   "metadata": {},
   "outputs": [],
   "source": [
    "for task_name in tasks:\n",
    "    if task_name == 'bart':\n",
    "        continue\n",
    "    tdf = task_dat[task_name]\n",
    "    keep_df = tdf.filter(pl.col('sub_id').is_in(keep_sub_ids)).filter(pl.col('bc_mask'))\n",
    "    for sub_id in keep_sub_ids:\n",
    "        sdf = keep_df.filter(pl.col('sub_id') == sub_id)\n",
    "        sdf.write_csv(out_dir / f'{task_name}-{sub_id}.csv')"
   ]
  }
 ],
 "metadata": {
  "kernelspec": {
   "display_name": "cogmood-analysis",
   "language": "python",
   "name": "python3"
  },
  "language_info": {
   "codemirror_mode": {
    "name": "ipython",
    "version": 3
   },
   "file_extension": ".py",
   "mimetype": "text/x-python",
   "name": "python",
   "nbconvert_exporter": "python",
   "pygments_lexer": "ipython3",
   "version": "3.13.2"
  }
 },
 "nbformat": 4,
 "nbformat_minor": 5
}
