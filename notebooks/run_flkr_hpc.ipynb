{
 "cells": [
  {
   "cell_type": "code",
   "execution_count": null,
   "id": "6758536e",
   "metadata": {},
   "outputs": [],
   "source": [
    "apptainer shell --nv -B /lscratch/$SLURM_JOBID/Flanker:/Flanker -B /home/nielsond:/home/nielsond -B /lscratch/$SLURM_JOBID/cache:/data/nielsond/.cache ./flanker.sif \n",
    "\n",
    "sinteractive --gres=gpu:k80:1,lscratch:20 --mem=40g -c20 --time=24:00:00  "
   ]
  },
  {
   "cell_type": "code",
   "execution_count": 2,
   "id": "f846595c",
   "metadata": {},
   "outputs": [],
   "source": [
    "from pathlib import Path"
   ]
  },
  {
   "cell_type": "code",
   "execution_count": 3,
   "id": "a34e1b19",
   "metadata": {},
   "outputs": [],
   "source": [
    "sif_path = Path('/data/MLDSST/nielsond/cogmood/analysis/SUPREME/Analysis/Flanker/flanker.sif')\n",
    "swarm_dir = Path('/data/MLDSST/nielsond/cogmood/swarm/')\n",
    "swarm_cmd_dir = swarm_dir / 'cmds'\n",
    "swarm_log_dir = swarm_dir / 'log'\n",
    "clean_csv_dir = Path('/data/MLDSST/nielsond/cogmood/data/20250611_pilot/to_model')\n",
    "res_dir = Path('/data/MLDSST/nielsond/cogmood/data/20250611_pilot/model_res')\n",
    "res_dir.mkdir(exist_ok=True)"
   ]
  },
  {
   "cell_type": "code",
   "execution_count": 49,
   "id": "01fef898",
   "metadata": {},
   "outputs": [],
   "source": [
    "cmds = []\n",
    "for sub_file in sorted(clean_csv_dir.glob('*.csv'))[3:]:\n",
    "    cmd = f\"\"\"rsync -avch /data/MLDSST/nielsond/cogmood/analysis/SUPREME/Analysis/Flanker /lscratch/$SLURM_JOBID/; \\\n",
    "    rsync -avch {sub_file} /lscratch/$SLURM_JOBID/Flanker/; \\\n",
    "    cd /lscratch/$SLURM_JOBID/Flanker; \\\n",
    "    mkdir -p /lscratch/$SLURM_JOBID/cache/pycuda; \\\n",
    "    ls -ltah /lscratch/$SLURM_JOBID/Flanker/flanker.sif; \\\n",
    "    export MPLBACKEND=pdf; \\\n",
    "    apptainer run --nv -B /lscratch/$SLURM_JOBID/Flanker:/Flanker \\\n",
    "        -B /lscratch/$SLURM_JOBID/cache:/data/nielsond/.cache \\\n",
    "        /lscratch/$SLURM_JOBID/Flanker/flanker.sif {sub_file.parts[-1]} ; \\\n",
    "    rsync -avch flanker_{sub_file.stem}.tgz {res_dir}/; \n",
    "    \"\"\"\n",
    "    cmds.append(cmd)"
   ]
  },
  {
   "cell_type": "code",
   "execution_count": 50,
   "id": "0a92e426",
   "metadata": {},
   "outputs": [
    {
     "data": {
      "text/plain": [
       "14382"
      ]
     },
     "execution_count": 50,
     "metadata": {},
     "output_type": "execute_result"
    }
   ],
   "source": [
    "cmd_file = swarm_cmd_dir/'pilot_flkr3'\n",
    "cmd_file.write_text('\\n'.join(cmds))"
   ]
  },
  {
   "cell_type": "code",
   "execution_count": 51,
   "id": "93bc14b6",
   "metadata": {},
   "outputs": [
    {
     "name": "stdout",
     "output_type": "stream",
     "text": [
      "66215664\n"
     ]
    }
   ],
   "source": [
    "\n",
    "! swarm --time=12:00:00 -g 20 -t 20 -m apptainer --gres=gpu:k80:1,lscratch:5 --partition=gpu --job-name=flkr_pilot --logdir={swarm_log_dir} {cmd_file}"
   ]
  },
  {
   "cell_type": "code",
   "execution_count": null,
   "id": "a0e77565",
   "metadata": {},
   "outputs": [],
   "source": []
  }
 ],
 "metadata": {
  "kernelspec": {
   "display_name": "cogmood_analysis",
   "language": "python",
   "name": "python3"
  },
  "language_info": {
   "codemirror_mode": {
    "name": "ipython",
    "version": 3
   },
   "file_extension": ".py",
   "mimetype": "text/x-python",
   "name": "python",
   "nbconvert_exporter": "python",
   "pygments_lexer": "ipython3",
   "version": "3.13.7"
  }
 },
 "nbformat": 4,
 "nbformat_minor": 5
}
